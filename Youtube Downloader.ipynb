{
 "cells": [
  {
   "cell_type": "code",
   "execution_count": 1,
   "metadata": {},
   "outputs": [],
   "source": [
    "from tkinter import *\n",
    "from pytube import YouTube"
   ]
  },
  {
   "cell_type": "code",
   "execution_count": 2,
   "metadata": {},
   "outputs": [],
   "source": [
    "root = Tk()\n",
    "root.geometry('720x480')\n",
    "root.title('Youtube Video Downloader')\n",
    "root.config(bg='lightblue')"
   ]
  },
  {
   "cell_type": "code",
   "execution_count": 3,
   "metadata": {},
   "outputs": [],
   "source": [
    "def search_url():\n",
    "    string = entered_url.get()\n",
    "    yt = YouTube(string)\n",
    "    global video_links\n",
    "    video_links = yt.streams.all()\n",
    "    i = 1\n",
    "    for stream in video_links :\n",
    "        list_box.insert(END, str(i) + '. ' + str(stream))\n",
    "        i += 1"
   ]
  },
  {
   "cell_type": "code",
   "execution_count": 4,
   "metadata": {},
   "outputs": [],
   "source": [
    "def download_video():\n",
    "    seleted_video = list_box.curselection()\n",
    "    seleted_video = int(seleted_video[0])\n",
    "    video_to_download = video_links[seleted_video]\n",
    "    video_to_download.download('/Users/Admin/Downloads')\n",
    "    downloaded.configure(text='Successfully Downloaded !!!',font=('Arial',8),fg='black')"
   ]
  },
  {
   "cell_type": "code",
   "execution_count": 5,
   "metadata": {},
   "outputs": [],
   "source": [
    "label_url = Label(root,text='Enter URL:')\n",
    "label_url.place(x=80,y=50)"
   ]
  },
  {
   "cell_type": "code",
   "execution_count": 6,
   "metadata": {},
   "outputs": [],
   "source": [
    "entered_url = Entry(root,width=50)\n",
    "entered_url.place(x=150,y=50)"
   ]
  },
  {
   "cell_type": "code",
   "execution_count": 7,
   "metadata": {},
   "outputs": [],
   "source": [
    "search = Button(root,text='Search',width=8,height=1,font=('Arial',8),command=search_url)\n",
    "search.place(x=475,y=50)"
   ]
  },
  {
   "cell_type": "code",
   "execution_count": 8,
   "metadata": {},
   "outputs": [],
   "source": [
    "list_box = Listbox(root,width=80,height=15)\n",
    "list_box.place(x=80,y=100)"
   ]
  },
  {
   "cell_type": "code",
   "execution_count": 9,
   "metadata": {},
   "outputs": [],
   "source": [
    "download = Button(root,text='Download', width=20, height=1, font=('Times Roman',8),command=download_video)\n",
    "download.place(x=260,y=360)"
   ]
  },
  {
   "cell_type": "code",
   "execution_count": 10,
   "metadata": {},
   "outputs": [],
   "source": [
    "downloaded = Label(root,text='')\n",
    "downloaded.place(x=260,y=400)"
   ]
  },
  {
   "cell_type": "code",
   "execution_count": null,
   "metadata": {
    "scrolled": true
   },
   "outputs": [
    {
     "name": "stderr",
     "output_type": "stream",
     "text": [
      "C:\\Users\\saiya\\Anaconda3\\lib\\site-packages\\ipykernel_launcher.py:5: DeprecationWarning: Call to deprecated function all (This object can be treated as a list, all() is useless).\n",
      "  \"\"\"\n",
      "Exception in Tkinter callback\n",
      "Traceback (most recent call last):\n",
      "  File \"C:\\Users\\saiya\\Anaconda3\\lib\\tkinter\\__init__.py\", line 1705, in __call__\n",
      "    return self.func(*args)\n",
      "  File \"<ipython-input-4-54eb5ba0890e>\", line 5, in download_video\n",
      "    video_to_download.download('/Users/Admin/Downloads')\n",
      "  File \"C:\\Users\\saiya\\Anaconda3\\lib\\site-packages\\pytube\\streams.py\", line 237, in download\n",
      "    filename_prefix=filename_prefix,\n",
      "  File \"C:\\Users\\saiya\\Anaconda3\\lib\\site-packages\\pytube\\streams.py\", line 273, in get_file_path\n",
      "    return os.path.join(target_directory(output_path), filename)\n",
      "  File \"C:\\Users\\saiya\\Anaconda3\\lib\\site-packages\\pytube\\helpers.py\", line 158, in target_directory\n",
      "    os.makedirs(output_path, exist_ok=True)\n",
      "  File \"C:\\Users\\saiya\\Anaconda3\\lib\\os.py\", line 211, in makedirs\n",
      "    makedirs(head, exist_ok=exist_ok)\n",
      "  File \"C:\\Users\\saiya\\Anaconda3\\lib\\os.py\", line 221, in makedirs\n",
      "    mkdir(name, mode)\n",
      "PermissionError: [WinError 5] Access is denied: '/Users/Admin'\n"
     ]
    }
   ],
   "source": [
    "\n",
    "root.resizable(False,False)\n",
    "root.mainloop()"
   ]
  },
  {
   "cell_type": "code",
   "execution_count": null,
   "metadata": {},
   "outputs": [],
   "source": []
  }
 ],
 "metadata": {
  "kernelspec": {
   "display_name": "Python 3",
   "language": "python",
   "name": "python3"
  },
  "language_info": {
   "codemirror_mode": {
    "name": "ipython",
    "version": 3
   },
   "file_extension": ".py",
   "mimetype": "text/x-python",
   "name": "python",
   "nbconvert_exporter": "python",
   "pygments_lexer": "ipython3",
   "version": "3.7.6"
  }
 },
 "nbformat": 4,
 "nbformat_minor": 4
}
